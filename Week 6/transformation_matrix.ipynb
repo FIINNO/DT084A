{
 "cells": [
  {
   "cell_type": "code",
   "execution_count": 10,
   "metadata": {},
   "outputs": [
    {
     "name": "stdout",
     "output_type": "stream",
     "text": [
      "[[ 1.8      0.66667  1.     ]\n",
      " [ 0.6      0.66667  1.     ]\n",
      " [ 0.2     -0.       1.     ]]\n"
     ]
    }
   ],
   "source": [
    "import numpy as np\n",
    "\n",
    "original_points = np.array([\n",
    "    [0, 0],\n",
    "    [0, 3],\n",
    "    [5, 3],\n",
    "    [5, 0]\n",
    "])\n",
    "\n",
    "transformed_points = np.array([\n",
    "    [1, 1],\n",
    "    [3, 3],\n",
    "    [6, 3],\n",
    "    [5, 2]\n",
    "])\n",
    "\n",
    "# coefficient matrix\n",
    "A = np.zeros((8, 9))\n",
    "\n",
    "for i in range(4):\n",
    "    x, y = original_points[i]\n",
    "    u, v = transformed_points[i]\n",
    "\n",
    "    A[2*i, 0] = x\n",
    "    A[2*i, 1] = y\n",
    "    A[2*i, 2] = 1\n",
    "    A[2*i, 6] = -u * x\n",
    "    A[2*i, 7] = -u * y\n",
    "    A[2*i, 8] = -u\n",
    "\n",
    "    A[2*i+1, 3] = x\n",
    "    A[2*i+1, 4] = y\n",
    "    A[2*i+1, 5] = 1\n",
    "    A[2*i+1, 6] = -v * x\n",
    "    A[2*i+1, 7] = -v * y\n",
    "    A[2*i+1, 8] = -v\n",
    "\n",
    "    # the above comes from this:\n",
    "    # x*h11 + y*h12 + h13 - x*u*h31 - y*u*h32 - u*h33 = 0\n",
    "    # x*h21 + y*h22 + h23 - x*v*h31 - y*v*h32 - v*h33 = 0\n",
    "    # which comes from the defined transformation for homography/perspective transformation\n",
    "    # we want to find all the h values\n",
    "\n",
    "# solve using svd\n",
    "_, _, V = np.linalg.svd(A)\n",
    "\n",
    "# solution is last column of V, reshaped into a 3x3 matrix\n",
    "H = V[-1].reshape((3, 3))\n",
    "\n",
    "# normalize the matrix by dividing by the bottom right value in the matrix\n",
    "H /= H[2, 2]\n",
    "\n",
    "np.set_printoptions(precision=5, suppress=True)\n",
    "print(H)\n"
   ]
  }
 ],
 "metadata": {
  "kernelspec": {
   "display_name": "Python 3",
   "language": "python",
   "name": "python3"
  },
  "language_info": {
   "codemirror_mode": {
    "name": "ipython",
    "version": 3
   },
   "file_extension": ".py",
   "mimetype": "text/x-python",
   "name": "python",
   "nbconvert_exporter": "python",
   "pygments_lexer": "ipython3",
   "version": "3.12.9"
  }
 },
 "nbformat": 4,
 "nbformat_minor": 2
}
