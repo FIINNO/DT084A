{
 "cells": [
  {
   "cell_type": "code",
   "execution_count": 7,
   "metadata": {},
   "outputs": [],
   "source": [
    "import cv2\n",
    "from functions import *\n",
    "\n",
    "image = cv2.imread(\"test_img.jpg\")\n",
    "\n",
    "# Normal RGB, XY Image segmentation using mean shift algorithm\n",
    "\n",
    "segmented_image = mean_shift_segmentation(image)\n",
    "cv2.imshow('seg_img_rgb.jpg', segmented_image)\n",
    "cv2.imwrite(\"seg_img_rgb.jpg\", segmented_image)\n",
    "\n",
    "cv2.waitKey(0)\n",
    "cv2.destroyAllWindows()"
   ]
  },
  {
   "cell_type": "code",
   "execution_count": 8,
   "metadata": {},
   "outputs": [],
   "source": [
    "# Using Lab Color space\n",
    "\n",
    "lab_image = cv2.cvtColor(image, cv2.COLOR_BGR2LAB)\n",
    "segmented_image = mean_shift_segmentation(lab_image)\n",
    "segmented_image = cv2.cvtColor(segmented_image, cv2.COLOR_LAB2BGR)\n",
    "cv2.imshow('seg_img_lab.jpg', segmented_image)\n",
    "cv2.imwrite(\"seg_img_lab.jpg\", segmented_image)\n",
    "\n",
    "cv2.waitKey(0)\n",
    "cv2.destroyAllWindows()"
   ]
  },
  {
   "cell_type": "code",
   "execution_count": 10,
   "metadata": {},
   "outputs": [],
   "source": [
    "# Using HSV\n",
    "\n",
    "hsv_image = cv2.cvtColor(image, cv2.COLOR_BGR2HSV)\n",
    "segmented_image = mean_shift_segmentation(hsv_image)\n",
    "segmented_image = cv2.cvtColor(segmented_image, cv2.COLOR_HSV2BGR)\n",
    "\n",
    "cv2.imshow('seg_img_hsv.jpg', segmented_image)\n",
    "cv2.imwrite(\"seg_img_hsv.jpg\", segmented_image)\n",
    "\n",
    "cv2.waitKey(0)\n",
    "cv2.destroyAllWindows()\n"
   ]
  },
  {
   "cell_type": "markdown",
   "metadata": {},
   "source": [
    "# Mean Shift Image Segmentation\n",
    "\n",
    "1. Represent each pixel as a feature vector eg. (x,y,R,G,B)\n",
    "\n",
    "2. Define window (kernel) around each pixel in the feature space. <br>\n",
    "Spatial radius(sp): Window size in pixel space <br>\n",
    "Color radius(sr): How much difference in color is allowed.\n",
    "\n",
    "3. Iteratively shifting each pixel toward the local mean. <br>\n",
    "In the OpenCV implementation the image is downsampled in different levels like a pyramid. The algorithm can quickly identify major clusters (modes) at the low resolution/smoothed image level. The segementation can thereafter be refined iteratively on each layer where the resolution get higher and higher. \n",
    "\n",
    "4. Converge <br>\n",
    "When the mean shift algorithm converges it has reached the mode. Pixels that converge to the same mode are clustered. \n",
    "\n",
    "5. Results in a image where the pixels have been clustered and represent a segment in the image. "
   ]
  }
 ],
 "metadata": {
  "kernelspec": {
   "display_name": "Python 3",
   "language": "python",
   "name": "python3"
  },
  "language_info": {
   "codemirror_mode": {
    "name": "ipython",
    "version": 3
   },
   "file_extension": ".py",
   "mimetype": "text/x-python",
   "name": "python",
   "nbconvert_exporter": "python",
   "pygments_lexer": "ipython3",
   "version": "3.12.9"
  }
 },
 "nbformat": 4,
 "nbformat_minor": 2
}
